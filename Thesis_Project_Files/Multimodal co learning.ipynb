{
 "cells": [
  {
   "cell_type": "code",
   "execution_count": null,
   "id": "c313d1c8",
   "metadata": {},
   "outputs": [],
   "source": [
    "# import necessary libraries\n",
    "import pandas as pd\n",
    "import matplotlib.pyplot as plt\n",
    "import numpy as np\n",
    "import seaborn as sns\n",
    "from sklearn import datasets, linear_model\n",
    "from sklearn.metrics import mean_squared_error, r2_score\n",
    "from sklearn import preprocessing\n",
    "from sklearn.metrics import accuracy_score\n",
    "from scipy import stats\n",
    "from scipy.stats import norm\n",
    "from PIL import ImageFile, Image\n",
    "from matplotlib import image,pyplot\n",
    "from PIL import ImageFile, Image\n",
    "from sklearn.model_selection import train_test_split\n",
    "from mpl_toolkits import mplot3d\n",
    "import torch\n",
    "import torch.nn as nn\n",
    "import torch.nn.functional as F\n",
    "from sklearn.linear_model import LogisticRegression\n",
    "from sklearn.metrics import classification_report"
   ]
  },
  {
   "cell_type": "code",
   "execution_count": null,
   "id": "9c7c1299",
   "metadata": {},
   "outputs": [],
   "source": [
    "# training,test,devel data index extraction from partition file\n",
    "partition  = pd.read_csv(f\"/Thesis_data/c3_muse_stress_2022/metadata/partition.csv\")\n",
    "partition_train_index=partition[(partition[\"Partition\"]==\"train\")][\"Id\"].to_numpy()\n",
    "partition_devel_index=partition[(partition[\"Partition\"]==\"devel\")][\"Id\"].to_numpy()\n",
    "partition_test_index=partition[(partition[\"Partition\"]==\"test\")][\"Id\"].to_numpy()\n",
    "partition_index = partition[(partition[\"Partition\"]==\"train\") | (partition[\"Partition\"]==\"devel\")|(partition[\"Partition\"]==\"test\")][\"Id\"].to_numpy()"
   ]
  },
  {
   "cell_type": "code",
   "execution_count": null,
   "id": "00cca9ef",
   "metadata": {},
   "outputs": [],
   "source": [
    "model_val=torch.load('D:/Thesis_code/model_muse/stress/2023-03-02-17-45_[early-fusion-faus+egemaps+biosignals_noise]_[valence]_[64_4_True_64]_[0.001_256]_GRU/model_109.pth')"
   ]
  },
  {
   "cell_type": "code",
   "execution_count": null,
   "id": "b776d20d",
   "metadata": {},
   "outputs": [],
   "source": [
    "from sklearn.preprocessing import StandardScaler\n",
    "multimodal=[]\n",
    "for i in partition_train_index:\n",
    "    multimodal.append(pd.read_csv(f\"/Thesis_data/c3_muse_stress_2022/feature_segments/biosignals/{i}.csv\"))  \n",
    "#     normalizer = StandardScaler().fit(multi)\n",
    "pandas=pd.concat(multimodal)"
   ]
  },
  {
   "cell_type": "code",
   "execution_count": null,
   "id": "f897b0bb",
   "metadata": {},
   "outputs": [],
   "source": [
    "bio_signals_validation=pd.DataFrame()\n",
    "for i in partition_devel_index:\n",
    "    multi=pd.read_csv(f\"/Thesis_data/c3_muse_stress_2022/feature_segments/early-fusion-faus+egemaps+biosignals/{i}.csv\")\n",
    "#     print(multi)\n",
    "    val_value=pd.read_csv(f\"/Thesis_data/results_gpu/prediction_muse/stress/2023-03-02-17-45_[early-fusion-faus+egemaps+biosignals_noise]_[valence]_[64_4_True_64]_[0.001_256]/predictions.csv\")\n",
    "    normalizer.transform(multi)\n",
    "    multi['preds']=val_value['prediction']\n",
    "    bio_signals_validation = pd.concat([bio_signals_validation,multi])\n",
    "# bio_signals_validation['BPM'] = zscore(bio_signals_validation['BPM'])\n",
    "bio_signals_validation"
   ]
  },
  {
   "cell_type": "code",
   "execution_count": null,
   "id": "aab4293a",
   "metadata": {},
   "outputs": [],
   "source": [
    "# col = list(data.columns)\n",
    "for i in partition.Id:\n",
    "#     if i in partition_devel_index:\n",
    "    multi=pd.read_csv(f\"/Thesis_data/c3_muse_stress_2022/feature_segments/early-fusion-faus+egemaps+biosignals/{i}.csv\")\n",
    "#         col.remove('resp')\n",
    "#         col.remove('subject_id')\n",
    "#         col.remove('timestamp')\n",
    "    multi[col] = 0\n",
    "    multi.to_csv(f\"D:/Thesis_data/c3_muse_stress_2022/feature_segments/early-fusion-faus+egemaps+biosignals_colearning/{i}.csv\",index=False)\n",
    "\n",
    "           "
   ]
  },
  {
   "cell_type": "code",
   "execution_count": null,
   "id": "a3195d0c",
   "metadata": {},
   "outputs": [],
   "source": [
    "data = pd.read_csv(f\"/Thesis_data/c3_muse_stress_2022/feature_segments/early-fusion-egemaps+biosignals/6.csv\")"
   ]
  },
  {
   "cell_type": "code",
   "execution_count": null,
   "id": "ca391bbd",
   "metadata": {},
   "outputs": [],
   "source": [
    "col = list(data.columns)"
   ]
  },
  {
   "cell_type": "code",
   "execution_count": null,
   "id": "baff047d",
   "metadata": {},
   "outputs": [],
   "source": [
    "for i in partition.Id:\n",
    "    multi=pd.read_csv(f\"/Thesis_data/c3_muse_stress_2022/feature_segments/early-fusion-egemaps+biosignals/{i}.csv\")\n",
    "    multi[col[:-3]] = 0\n",
    "    multi.to_csv(f\"D:/Thesis_data/c3_muse_stress_2022/feature_segments/early-fusion-egemaps+biosignals_colearning/{i}.csv\",index=False)\n",
    "\n",
    "           "
   ]
  },
  {
   "cell_type": "code",
   "execution_count": null,
   "id": "8f50c855",
   "metadata": {},
   "outputs": [],
   "source": [
    "from sklearn.preprocessing import StandardScaler\n",
    "bio=[]\n",
    "for i in partition_train_index:\n",
    "    bio.append(pd.read_csv(f\"/Thesis_data/c3_muse_stress_2022/feature_segments/biosignals/{i}.csv\"))  \n",
    "#     normalizer = StandardScaler().fit(multi)\n",
    "pandas=pd.concat(bio)\n",
    "\n",
    "scaler = StandardScaler().fit(pandas)\n",
    "\n",
    "\n",
    "X_scaled = scaler.transform(pandas)\n",
    "np.shape(X_scaled)\n"
   ]
  },
  {
   "cell_type": "code",
   "execution_count": null,
   "id": "646e0a72",
   "metadata": {},
   "outputs": [],
   "source": [
    "# col = list(data.columns)\n",
    "for i in partition.Id:\n",
    "#     if i in partition_devel_index:\n",
    "    multi=pd.read_csv(f\"/Thesis_data/c3_muse_stress_2022/feature_segments/biosignals/{i}.csv\")\n",
    "#         col.remove('resp')\n",
    "#         col.remove('subject_id')\n",
    "#         col.remove('timestamp')\n",
    "    multi[col[2:4]] = 0\n",
    "#     multi['BPM'] = zscore(multi['BPM'])\n",
    "    multi.to_csv(f\"D:/Thesis_data/c3_muse_stress_2022/feature_segments/biosignals_colearning/{i}.csv\",index=False)\n",
    "\n",
    "           "
   ]
  },
  {
   "cell_type": "code",
   "execution_count": null,
   "id": "b9e929b2",
   "metadata": {},
   "outputs": [],
   "source": [
    "import pandas as pd\n",
    "\n",
    "partition  = pd.read_csv(f\"/media/compute/homes/hmanjunath/c3_muse_stress_2022/metadata/partition.csv\")\n",
    "\n",
    "for i in partition.Id:\n",
    "    combine=pd.DataFrame()\n",
    "\n",
    "    valence=pd.read_csv(f\"/media/compute/homes/hmanjunath/c3_muse_stress_2022/label_segments/valence/{i}.csv\")\n",
    "    arousal=pd.read_csv(f\"/media/compute/homes/hmanjunath/c3_muse_stress_2022/label_segments/physio-arousal/{i}.csv\")\n",
    "    combine[['timestamp','subject_id','v_value']]=valence[['timestamp','subject_id','value']]\n",
    "    combine['a_value']=arousal['value']\n",
    "    combine.to_csv(f\"/media/compute/homes/hmanjunath/c3_muse_stress_2022/label_segments/valence_arousal1/{i}.csv\",index=False)"
   ]
  },
  {
   "cell_type": "code",
   "execution_count": null,
   "id": "8e224880",
   "metadata": {},
   "outputs": [],
   "source": [
    "for i in partition_index:\n",
    "    combine=pd.DataFrame()\n",
    "    print(i)\n",
    "    valence=pd.read_csv(f\"/Thesis_data/c3_muse_stress_2022/label_segments/valence/{i}.csv\")\n",
    "    arousal=pd.read_csv(f\"/Thesis_data/c3_muse_stress_2022/label_segments/physio-arousal/{i}.csv\")\n",
    "    combine[['timestamp','subject_id','v_value']]=valence[['timestamp','subject_id','value']]\n",
    "    combine['a_value']=arousal['value']\n",
    "    combine.to_csv(f\"/Thesis_data/c3_muse_stress_2022/label_segments/valence_arousal/{i}.csv\",index=False)"
   ]
  },
  {
   "cell_type": "code",
   "execution_count": null,
   "id": "93686235",
   "metadata": {},
   "outputs": [],
   "source": []
  }
 ],
 "metadata": {
  "kernelspec": {
   "display_name": "Python 3 (ipykernel)",
   "language": "python",
   "name": "python3"
  },
  "language_info": {
   "codemirror_mode": {
    "name": "ipython",
    "version": 3
   },
   "file_extension": ".py",
   "mimetype": "text/x-python",
   "name": "python",
   "nbconvert_exporter": "python",
   "pygments_lexer": "ipython3",
   "version": "3.9.13"
  }
 },
 "nbformat": 4,
 "nbformat_minor": 5
}
